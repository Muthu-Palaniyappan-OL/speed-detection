{
 "cells": [
  {
   "cell_type": "markdown",
   "id": "adabd15e",
   "metadata": {},
   "source": [
    "<center>\n",
    "    <h1> Speed Detection </h1>\n",
    "    Speed of vehicle is detected using OpenCV and pre-trained model YOLOv7\n",
    "</center>\n",
    "\n",
    "<div style=\"text-align:right;margin-top: 20px;\">\n",
    "    By: Muthu Palaniyappan OL (2020115054)<br>\n",
    "    Edumba Vannia Raja (2020115030)\n",
    "</div>"
   ]
  },
  {
   "cell_type": "markdown",
   "id": "9574b695",
   "metadata": {},
   "source": [
    "# Download This Video\n",
    "\n",
    "https://www.youtube.com/watch?v=wqctLW0Hb_0\n",
    "\n",
    "and save it as videoplayback.mp4 in same directory."
   ]
  },
  {
   "cell_type": "markdown",
   "id": "795f1430",
   "metadata": {},
   "source": [
    "# Necessary Files To Download For Windows"
   ]
  },
  {
   "cell_type": "code",
   "execution_count": null,
   "id": "a4a071e1",
   "metadata": {},
   "outputs": [],
   "source": [
    "! https://raw.githubusercontent.com/AlexeyAB/darknet/master/cfg/yolov7-tiny.cfg -o yolov7-tiny.cfg\n",
    "! wget https://github.com/AlexeyAB/darknet/releases/download/yolov4/yolov7-tiny.weights -o yolov7-tiny.weights\n",
    "! wget https://raw.githubusercontent.com/pjreddie/darknet/master/data/coco.names -o coco.names"
   ]
  },
  {
   "cell_type": "markdown",
   "id": "061a7b1d",
   "metadata": {},
   "source": [
    "# Necessary Files To Download For Linux"
   ]
  },
  {
   "cell_type": "code",
   "execution_count": null,
   "id": "13443fa9",
   "metadata": {
    "scrolled": true
   },
   "outputs": [],
   "source": [
    "! https://raw.githubusercontent.com/AlexeyAB/darknet/master/cfg/yolov7-tiny.cfg\n",
    "! wget https://github.com/AlexeyAB/darknet/releases/download/yolov4/yolov7-tiny.weights\n",
    "! wget https://raw.githubusercontent.com/pjreddie/darknet/master/data/coco.names"
   ]
  },
  {
   "cell_type": "markdown",
   "id": "4d751843",
   "metadata": {},
   "source": [
    "# Necessary Packages "
   ]
  },
  {
   "cell_type": "code",
   "execution_count": null,
   "id": "ec5806dc",
   "metadata": {},
   "outputs": [],
   "source": [
    "! pip install opencv-python"
   ]
  },
  {
   "cell_type": "code",
   "execution_count": null,
   "id": "8582f7bf",
   "metadata": {},
   "outputs": [],
   "source": [
    "import cv2"
   ]
  },
  {
   "cell_type": "code",
   "execution_count": null,
   "id": "fffe9075",
   "metadata": {},
   "outputs": [],
   "source": [
    "net = cv2.dnn_DetectionModel('yolov7-tiny.weights', 'yolov7-tiny.cfg')\n",
    "net.setInputSize((640, 640))\n",
    "net.setInputScale(1/255.0)\n",
    "net.setInputSwapRB(True)"
   ]
  },
  {
   "cell_type": "code",
   "execution_count": null,
   "id": "0019a8f9",
   "metadata": {},
   "outputs": [],
   "source": [
    "names = []\n",
    "with open('coco.names') as f:\n",
    "    names = f.read().split('\\n')\n",
    "\n",
    "print('Classess Pretrained Neural Network Supports: ', names)"
   ]
  },
  {
   "cell_type": "code",
   "execution_count": null,
   "id": "68e32855",
   "metadata": {},
   "outputs": [],
   "source": [
    "cam = cv2.VideoCapture('videoplayback.mp4')\n",
    "\n",
    "while True:\n",
    "    available, frame = cam.read()\n",
    "    if not available:\n",
    "        break\n",
    "    \n",
    "    classes, confidences, boxes = net.detect(frame, confThreshold=0.4 ,nmsThreshold=0.4)\n",
    "        \n",
    "    if(not len(classes) == 0):\n",
    "        for classId, confidence, box in zip(classes.flatten(), confidences.flatten(), boxes):\n",
    "            cv2.rectangle(frame, box, color=(0, 255, 0), thickness=1)\n",
    "            cv2.putText(frame, names[classId]+' '+str(confidence), box[:2], cv2.FONT_HERSHEY_COMPLEX , 0.5, (0, 255, 0), 1, cv2.LINE_AA)\n",
    "                \n",
    "    cv2.imshow('Frame', frame)\n",
    "    \n",
    "    key = cv2.waitKey(1)\n",
    "    if key == ord('q'):\n",
    "        break\n",
    "    if key == 30:\n",
    "        continue\n",
    "\n",
    "cv2.destroyAllWindows()\n",
    "cam.release()"
   ]
  }
 ],
 "metadata": {
  "kernelspec": {
   "display_name": "Python 3 (ipykernel)",
   "language": "python",
   "name": "python3"
  },
  "language_info": {
   "codemirror_mode": {
    "name": "ipython",
    "version": 3
   },
   "file_extension": ".py",
   "mimetype": "text/x-python",
   "name": "python",
   "nbconvert_exporter": "python",
   "pygments_lexer": "ipython3",
   "version": "3.10.6"
  }
 },
 "nbformat": 4,
 "nbformat_minor": 5
}
