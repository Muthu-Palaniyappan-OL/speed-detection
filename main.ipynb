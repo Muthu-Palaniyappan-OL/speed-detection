{
 "cells": [
  {
   "cell_type": "markdown",
   "metadata": {},
   "source": [
    "# Object Speed Estimation\n",
    "\n",
    "Simple Online RealTime Tracking algorithm (Simpler Version), Kalaman Filter is implemented from scratch. \n",
    "\n",
    "Author: Muthu Palaniyappan OL (2020115054), Edumba Vannia Raja (2020115030) "
   ]
  },
  {
   "cell_type": "markdown",
   "metadata": {},
   "source": [
    "## Project Dependancies\n",
    "\n",
    "Run this command to install all dependancies.\n",
    "\n",
    "```bash\n",
    "pip install -r requirements.txt\n",
    "```\n",
    "\n",
    "Project depends only on [OpenCV](https://opencv.org/) (4.6.0.66), [NumPy](https://numpy.org/) (1.23.2)"
   ]
  },
  {
   "cell_type": "markdown",
   "metadata": {},
   "source": [
    "## Project Setup\n",
    "\n",
    "### Seting up in `Linux`\n",
    "\n",
    "Download these files and save it in same folder.\n",
    "\n",
    "```sh\n",
    "wget https://raw.githubusercontent.com/AlexeyAB/darknet/master/cfg/yolov7-tiny.cfg\n",
    "wget https://github.com/AlexeyAB/darknet/releases/download/yolov4/yolov7-tiny.weights\n",
    "```\n",
    "\n",
    "### Seting up in `Windows`\n",
    "\n",
    "Download these files and save it in same folder.\n",
    "\n",
    "```sh\n",
    "wget https://raw.githubusercontent.com/AlexeyAB/darknet/master/cfg/yolov7-tiny.cfg -o yolov7-tiny.cfg\n",
    "wget https://github.com/AlexeyAB/darknet/releases/download/yolov4/yolov7-tiny.weights -o yolov7-tiny.weights\n",
    "```\n",
    "\n",
    "### Download `Video`\n",
    "\n",
    "Download [Youtube: Road traffic video for object recognition](https://www.youtube.com/watch?v=wqctLW0Hb_0) video and save it as videoplayback.mp4 in same directory."
   ]
  },
  {
   "cell_type": "code",
   "execution_count": 1,
   "metadata": {},
   "outputs": [],
   "source": [
    "# Importing Dependancies\n",
    "import cv2\n",
    "import numpy as np\n",
    "import sort # sort.py"
   ]
  },
  {
   "cell_type": "markdown",
   "metadata": {},
   "source": [
    "# Neural Network\n",
    "\n",
    "using pre-trained neural network model yolov7-tiny."
   ]
  },
  {
   "cell_type": "code",
   "execution_count": 2,
   "metadata": {},
   "outputs": [
    {
     "data": {
      "text/plain": [
       "< cv2.dnn.Model 0x7f3fcc1c4f30>"
      ]
     },
     "execution_count": 2,
     "metadata": {},
     "output_type": "execute_result"
    }
   ],
   "source": [
    "neural_network = cv2.dnn_DetectionModel('yolov7-tiny.weights', 'yolov7-tiny.cfg') # yolov7 pretrained model\n",
    "neural_network.setInputSize((640, 640)) # input size for yolov7 pretrained model \n",
    "neural_network.setInputScale(1.0/255.0) # input range for yolov7 pretrained model\n",
    "neural_network.setInputSwapRB(True) # opencv's BGR to RGB"
   ]
  },
  {
   "cell_type": "code",
   "execution_count": 3,
   "metadata": {},
   "outputs": [],
   "source": [
    "def infobox_over_object(frame: np.ndarray, box: list, text: str, box_color: tuple = (255, 100, 40), text_color: tuple = (255, 255, 255)):\n",
    "    \"\"\"\n",
    "    Draws box over and object in the \"frame\" and puts text above the drawn box over the object.\n",
    "\n",
    "    frame is opencv frames (numpy).\n",
    "\n",
    "    box is clockwise starting from left top x_cord , y_cord together. (8 members in list)\n",
    "    \"\"\"\n",
    "    cv2.rectangle(frame, (box[0]-1, box[1]),\n",
    "                  (box[0]+box[2]+1, box[1]+box[3]), box_color, 2)\n",
    "    cv2.rectangle(frame, (box[0]-2, box[1] - 18),\n",
    "                  (box[0]+box[2]+2, box[1]), box_color, -1)\n",
    "    cv2.putText(frame, text, (box[0], box[1] - 4),\n",
    "                cv2.FONT_HERSHEY_SIMPLEX, 0.5, text_color, 1)"
   ]
  },
  {
   "cell_type": "code",
   "execution_count": 5,
   "metadata": {},
   "outputs": [],
   "source": [
    "cam = cv2.VideoCapture('videoplayback.mp4')\n",
    "s = sort.SORT(Tlost_max=30, iou_min=0.1)\n",
    "\n",
    "while True:\n",
    "    ret_status, frame = cam.read()\n",
    "    if not ret_status:\n",
    "        break\n",
    "\n",
    "    classes, confidences, boxes = neural_network.detect(frame, confThreshold=0.5, nmsThreshold=0.4)\n",
    "\n",
    "    # Converting top_left edge oriented boxes to center oriented \n",
    "    boxes[:, 2] = boxes[:, 2] / np.full(boxes[:, 2].shape, 2.0)\n",
    "    boxes[:, 3] = boxes[:, 3] / np.full(boxes[:, 3].shape, 2.0)\n",
    "    boxes[:, 0] += boxes[:, 2]\n",
    "    boxes[:, 1] += boxes[:, 3]\n",
    "\n",
    "    # sending it into sort algorithm \n",
    "    model_predictions = np.concatenate((boxes, confidences.reshape(-1, 1)), axis=1, dtype=np.float16, casting='unsafe')\n",
    "    res = s.update(model_predictions)\n",
    "\n",
    "    # converting center oriented output into topleft edge oriented \n",
    "    res[:, 0] = res[:, 0] - res[:, 2]\n",
    "    res[:, 1] = res[:, 1] - res[:, 3]\n",
    "    res[:, 6] = res[:, 6] - res[:, 2]\n",
    "    res[:, 7] = res[:, 7] - res[:, 3]\n",
    "    res[:, 2] = res[:, 2] * np.full(res[:, 2].shape, 2.0)\n",
    "    res[:, 3] = res[:, 3] * np.full(res[:, 3].shape, 2.0)\n",
    "    \n",
    "\n",
    "    for i in res:\n",
    "        # Drawing Blue Boxes Which are acctual car detections from yolov7 model\n",
    "        infobox_over_object(frame, (int(i[0]),int(i[1]),int(i[2]),int(i[3])), str(int(i[5])))\n",
    "        # Drawing Red Boxes Which are detections predicted by kalaman filter\n",
    "        infobox_over_object(frame, (int(i[6]), int(i[7]), int(i[2]), int(i[3])), str(int(i[5])), box_color=(0, 0, 255))\n",
    "    \n",
    "    cv2.imshow('Frame', frame)\n",
    "    key = cv2.waitKey(1)\n",
    "\n",
    "    if key == ord('q'):\n",
    "        break\n",
    "\n",
    "cam.release()\n",
    "cv2.destroyAllWindows()"
   ]
  }
 ],
 "metadata": {
  "kernelspec": {
   "display_name": "Python 3.10.4 ('venv': venv)",
   "language": "python",
   "name": "python3"
  },
  "language_info": {
   "codemirror_mode": {
    "name": "ipython",
    "version": 3
   },
   "file_extension": ".py",
   "mimetype": "text/x-python",
   "name": "python",
   "nbconvert_exporter": "python",
   "pygments_lexer": "ipython3",
   "version": "3.10.4"
  },
  "orig_nbformat": 4,
  "vscode": {
   "interpreter": {
    "hash": "7bc9e99c7981ed75408001d28f6da847657564b14ea9c2c6e964b3e5ab779483"
   }
  }
 },
 "nbformat": 4,
 "nbformat_minor": 2
}
