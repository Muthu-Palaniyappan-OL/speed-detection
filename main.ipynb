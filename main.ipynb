{
 "cells": [
  {
   "cell_type": "markdown",
   "metadata": {},
   "source": [
    "# Object Speed Estimation"
   ]
  },
  {
   "cell_type": "code",
   "execution_count": null,
   "metadata": {},
   "outputs": [],
   "source": [
    "import cv2\n",
    "import numpy as np\n",
    "import sort"
   ]
  },
  {
   "cell_type": "markdown",
   "metadata": {},
   "source": [
    "# Neural Network\n",
    "\n",
    "using pre-trained neural network model yolov7-tiny."
   ]
  },
  {
   "cell_type": "code",
   "execution_count": null,
   "metadata": {},
   "outputs": [],
   "source": [
    "neural_network = cv2.dnn_DetectionModel('yolov7-tiny.weights', 'yolov7-tiny.cfg')\n",
    "neural_network.setInputSize((640, 640))\n",
    "neural_network.setInputScale(1.0/255.0)\n",
    "neural_network.setInputSwapRB(True)"
   ]
  },
  {
   "cell_type": "code",
   "execution_count": null,
   "metadata": {},
   "outputs": [],
   "source": [
    "class_list = []\n",
    "with open('coco.names') as f:\n",
    "    class_list = f.read().split('\\n')"
   ]
  },
  {
   "cell_type": "code",
   "execution_count": null,
   "metadata": {},
   "outputs": [],
   "source": [
    "def infobox_over_object(frame: np.ndarray, box: list, text: str, box_color: tuple = (255, 100, 40), text_color: tuple = (255, 255, 255)):\n",
    "    \"\"\"\n",
    "    Draws box over and object in the \"frame\" and puts text above the drawn box over the object.\n",
    "\n",
    "    frame is opencv frames (numpy).\n",
    "\n",
    "    box is clockwise starting from left top x_cord , y_cord together. (8 members in list)\n",
    "    \"\"\"\n",
    "    cv2.rectangle(frame, (box[0]-1, box[1]),\n",
    "                  (box[0]+box[2]+1, box[1]+box[3]), box_color, 2)\n",
    "    cv2.rectangle(frame, (box[0]-2, box[1] - 18),\n",
    "                  (box[0]+box[2]+2, box[1]), box_color, -1)\n",
    "    cv2.putText(frame, text, (box[0], box[1] - 4),\n",
    "                cv2.FONT_HERSHEY_SIMPLEX, 0.5, text_color, 1)"
   ]
  },
  {
   "cell_type": "code",
   "execution_count": null,
   "metadata": {},
   "outputs": [],
   "source": [
    "# cam = cv2.VideoCapture('MOT20-01-raw.webm')\n",
    "cam = cv2.VideoCapture('videoplayback.mp4')\n",
    "s = sort.SORT()\n",
    "\n",
    "while True:\n",
    "    ret_status, frame = cam.read()\n",
    "    if not ret_status:\n",
    "        break\n",
    "\n",
    "    classes, confidences, boxes = neural_network.detect(frame, confThreshold=0.5, nmsThreshold=0.6)\n",
    "\n",
    "    # print(confidences.reshape(-1, 1)*100)\n",
    "    # print(boxes)\n",
    "    model_predictions = np.concatenate((boxes, 100 - confidences.reshape(-1, 1)*100), axis=1, dtype=np.int32, casting='unsafe')\n",
    "    print(model_predictions)\n",
    "    res = s.update(model_predictions)\n",
    "\n",
    "    for i in res:\n",
    "        infobox_over_object(frame, i[:4], str(i[5]))\n",
    "    \n",
    "    cv2.imshow('Frame', frame)\n",
    "    key = cv2.waitKey(0)\n",
    "\n",
    "    if key == ord('q'):\n",
    "        break\n",
    "\n",
    "cv2.destroyAllWindows()\n",
    "cam.release()"
   ]
  }
 ],
 "metadata": {
  "kernelspec": {
   "display_name": "Python 3.10.4 ('venv': venv)",
   "language": "python",
   "name": "python3"
  },
  "language_info": {
   "codemirror_mode": {
    "name": "ipython",
    "version": 3
   },
   "file_extension": ".py",
   "mimetype": "text/x-python",
   "name": "python",
   "nbconvert_exporter": "python",
   "pygments_lexer": "ipython3",
   "version": "3.10.4"
  },
  "orig_nbformat": 4,
  "vscode": {
   "interpreter": {
    "hash": "7bc9e99c7981ed75408001d28f6da847657564b14ea9c2c6e964b3e5ab779483"
   }
  }
 },
 "nbformat": 4,
 "nbformat_minor": 2
}
